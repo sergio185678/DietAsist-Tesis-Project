{
 "cells": [
  {
   "cell_type": "code",
   "execution_count": 2,
   "metadata": {},
   "outputs": [],
   "source": [
    "import tensorflow as tf\n",
    "import pandas as pd\n",
    "import random\n",
    "from sklearn.model_selection import train_test_split\n",
    "import ast\n",
    "from sklearn.preprocessing import MinMaxScaler, StandardScaler, LabelEncoder\n",
    "import numpy as np\n",
    "\n",
    "ruta_platos_peruano = \"dataset_para_nutricionista.xlsx\"\n",
    "dataset = pd.read_excel(ruta_platos_peruano)\n",
    "\n",
    "dataset = dataset.drop('N° Patient', axis=1)\n",
    "dataset = dataset.drop('P. Weight (kg)', axis=1) \n",
    "dataset = dataset.drop('P. Size (cm)', axis=1) \n",
    "dataset = dataset.drop('P. Age', axis=1) \n",
    "dataset = dataset.drop('P. Gender', axis=1) \n",
    "dataset = dataset.drop('P. Meal Frequency', axis=1) \n",
    "dataset = dataset.drop('P. Physical Activity', axis=1) \n",
    "dataset = dataset.drop('P. Glycosylated Hemoglobin', axis=1) \n",
    "dataset = dataset.drop('P. Triglyceride level', axis=1) \n",
    "dataset = dataset.drop('P. Cholesterol Level', axis=1) \n",
    "dataset = dataset.drop('P. Uric Acid Level', axis=1) \n",
    "dataset = dataset.drop('P. Caloric Intake (Lunch)', axis=1) \n",
    "dataset = dataset.drop('F.D. Name', axis=1) \n",
    "dataset = dataset.drop('F.D Recipe', axis=1) \n",
    "dataset = dataset.drop('F.D. Calories (kcal)', axis=1) \n",
    "dataset = dataset.drop('F.D. List(Ingredient/Portion)', axis=1) \n",
    "dataset = dataset.drop('F.D. Cholesterol Level', axis=1) \n",
    "dataset = dataset.drop('F.D. Uric Acid Level', axis=1) \n",
    "\n",
    "dataset['F.D. List Result(Important Ingredient/Portion)'] = dataset['F.D. List Result(Important Ingredient/Portion)'].apply(ast.literal_eval)\n",
    "\n",
    "array_suma=[]\n",
    "for i in range(0,dataset.shape[0]):\n",
    "    suma=0\n",
    "    for j in dataset['F.D. List Result(Important Ingredient/Portion)'][i]:\n",
    "        suma+=int(j[1])\n",
    "    array_suma.append(suma)\n",
    "\n",
    "dataset['Total imp. ingredients result (g)']=array_suma\n",
    "\n",
    "dataset.to_excel(\"dataset_para_modelo.xlsx\", index=False)"
   ]
  }
 ],
 "metadata": {
  "kernelspec": {
   "display_name": "base",
   "language": "python",
   "name": "python3"
  },
  "language_info": {
   "codemirror_mode": {
    "name": "ipython",
    "version": 3
   },
   "file_extension": ".py",
   "mimetype": "text/x-python",
   "name": "python",
   "nbconvert_exporter": "python",
   "pygments_lexer": "ipython3",
   "version": "3.11.5"
  }
 },
 "nbformat": 4,
 "nbformat_minor": 2
}
